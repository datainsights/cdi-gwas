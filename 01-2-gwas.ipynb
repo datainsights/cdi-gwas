{
 "cells": [
  {
   "cell_type": "markdown",
   "id": "e3d077cc",
   "metadata": {},
   "source": [
    "# (PART) GWA PIPILINE {-}"
   ]
  },
  {
   "cell_type": "markdown",
   "id": "95cad5d1",
   "metadata": {},
   "source": [
    "# GWAS Pipeline Stitched From Q&A"
   ]
  }
 ],
 "metadata": {
  "language_info": {
   "name": "python"
  }
 },
 "nbformat": 4,
 "nbformat_minor": 5
}
